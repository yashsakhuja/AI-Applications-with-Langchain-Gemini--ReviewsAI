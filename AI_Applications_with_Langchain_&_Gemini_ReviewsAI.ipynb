{
  "nbformat": 4,
  "nbformat_minor": 0,
  "metadata": {
    "colab": {
      "provenance": [],
      "toc_visible": true
    },
    "kernelspec": {
      "name": "python3",
      "display_name": "Python 3"
    },
    "language_info": {
      "name": "python"
    }
  },
  "cells": [
    {
      "cell_type": "markdown",
      "source": [
        "# Installing Packages"
      ],
      "metadata": {
        "id": "oNvLtQn1z6s-"
      }
    },
    {
      "cell_type": "code",
      "execution_count": null,
      "metadata": {
        "collapsed": true,
        "id": "s42zOZkszWdF"
      },
      "outputs": [],
      "source": [
        "pip install langchain"
      ]
    },
    {
      "cell_type": "code",
      "source": [
        "pip install langchain_google_genai"
      ],
      "metadata": {
        "collapsed": true,
        "id": "gN5-2XJ-zudp"
      },
      "execution_count": null,
      "outputs": []
    },
    {
      "cell_type": "code",
      "source": [
        "pip install python-dotenv"
      ],
      "metadata": {
        "collapsed": true,
        "id": "MSomiOfbzwG0"
      },
      "execution_count": null,
      "outputs": []
    },
    {
      "cell_type": "markdown",
      "source": [
        "# Importing Data"
      ],
      "metadata": {
        "id": "M7eVNrVE0Cp2"
      }
    },
    {
      "cell_type": "code",
      "source": [
        "import pandas as pd"
      ],
      "metadata": {
        "id": "bkSGo8qWz4Oq"
      },
      "execution_count": null,
      "outputs": []
    },
    {
      "cell_type": "code",
      "source": [
        "#Drive and sheets authentication\n",
        "from google.colab import auth\n",
        "auth.authenticate_user()\n",
        "\n",
        "import gspread\n",
        "from google.auth import default\n",
        "creds, _ = default()\n",
        "\n",
        "gc = gspread.authorize(creds)"
      ],
      "metadata": {
        "id": "Pj4_4G7Jz-KE"
      },
      "execution_count": null,
      "outputs": []
    },
    {
      "cell_type": "code",
      "source": [
        "#Importing sheets data and converting and storing as pandas dataframe for operations\n",
        "worksheet = gc.open('Sample Product Reviews').sheet1\n",
        "\n",
        "# Get all values from the worksheet\n",
        "rows = worksheet.get_all_values()\n",
        "\n",
        "# Convert to a DataFrame, with the first row as the header\n",
        "reviews_data = pd.DataFrame(rows[1:], columns=rows[0])"
      ],
      "metadata": {
        "id": "76-1S7Sb0J69"
      },
      "execution_count": null,
      "outputs": []
    },
    {
      "cell_type": "code",
      "source": [
        "reviews_data"
      ],
      "metadata": {
        "id": "b8-f32Or0RyT"
      },
      "execution_count": null,
      "outputs": []
    },
    {
      "cell_type": "markdown",
      "source": [
        "# Gemini Setup"
      ],
      "metadata": {
        "id": "Y9_MGXHt0eG2"
      }
    },
    {
      "cell_type": "code",
      "source": [
        "import os\n",
        "import getpass\n",
        "from langchain_google_genai import ChatGoogleGenerativeAI\n",
        "\n",
        "os.environ[\"GOOGLE_API_KEY\"] = getpass.getpass(\"Enter your Google AI API key: \")"
      ],
      "metadata": {
        "id": "u6lzLKj40cj7"
      },
      "execution_count": null,
      "outputs": []
    },
    {
      "cell_type": "code",
      "source": [
        "llm_model = ChatGoogleGenerativeAI(model=\"gemini-pro\", google_api_key=os.environ[\"GOOGLE_API_KEY\"],temperature=0.0)"
      ],
      "metadata": {
        "id": "m1tar-Uu1OXr"
      },
      "execution_count": null,
      "outputs": []
    },
    {
      "cell_type": "markdown",
      "source": [
        "# Propmting"
      ],
      "metadata": {
        "id": "4YA0vfQl1p0J"
      }
    },
    {
      "cell_type": "code",
      "source": [
        "from langchain.prompts import ChatPromptTemplate\n",
        "from langchain.output_parsers import ResponseSchema\n",
        "from langchain.output_parsers import StructuredOutputParser\n",
        "\n",
        "## Output Parser Schema Design\n",
        "\n",
        "review_language_schema = ResponseSchema(name=\"review_language\",\n",
        "                             description=\"Which language the review was written in?\")\n",
        "review_sentiment_schema = ResponseSchema(name=\"review_sentiment\",\n",
        "                                      description=\"What was the sentiment of the review\")\n",
        "translated_review_schema = ResponseSchema(name=\"translated_review\",\n",
        "                                    description=\"Reviews in other languages translated to English\")\n",
        "review_response_schema = ResponseSchema(name=\"review_response\",\n",
        "                                    description=\"Response to the review in the original language of the review\")\n",
        "translated_response_schema = ResponseSchema(name=\"translated_response\",\n",
        "                                    description=\"Response to the review translated to English.\")\n",
        "\n",
        "\n",
        "response_schemas = [review_language_schema,\n",
        "                    review_sentiment_schema,\n",
        "                    translated_review_schema,\n",
        "                    review_response_schema,\n",
        "                    translated_response_schema]\n",
        "\n",
        "output_parser= StructuredOutputParser.from_response_schemas(response_schemas)\n",
        "\n",
        "format_instructions = output_parser.get_format_instructions()\n",
        "\n",
        "## Output Template\n",
        "output_template= \"\"\"\n",
        "For the following text, extract the following information:\n",
        "\n",
        "review_language: Identify the language in which the review is written like English, Spanish, French, etc.\n",
        "\n",
        "review_sentiment: Tell me whether the customer review for the product was positive or negative. If unclear label it as Unidentified.\n",
        "\n",
        "translated_review: If the review is in a language other than english give me the review translated in English. If it's already in english don't return anything.\n",
        "\n",
        "review_response: Give me reply to the review in less than 30 words in the language of the original review. Keep a formal tone of response. Respond to both positive and negative reviews.\n",
        "                Tailor responses accordingly to the sentiment of the review. I need a response for every review.\n",
        "\n",
        "translated_response: Give me the above review_response translated into English. If it's already in english don't return anything.\n",
        "\n",
        "Do not make stuff up.\n",
        "\n",
        "Format the output as JSON with the following keys:\n",
        "review_language\n",
        "review_sentiment\n",
        "translated_review\n",
        "review_response\n",
        "translated_response\n",
        "\n",
        "Just give me the final json as output and nothing else.\n",
        "\n",
        "Return Null if not appropriate answer available. Do not hallucinate.\n",
        "\n",
        "text: {text}\n",
        "\n",
        "{format_instructions}\n",
        "\n",
        "\"\"\""
      ],
      "metadata": {
        "id": "06WcbxX719DG"
      },
      "execution_count": null,
      "outputs": []
    },
    {
      "cell_type": "code",
      "source": [
        "print(output_template)"
      ],
      "metadata": {
        "id": "WHwbC3Lq60y5"
      },
      "execution_count": null,
      "outputs": []
    },
    {
      "cell_type": "code",
      "source": [
        "chat=llm_model"
      ],
      "metadata": {
        "id": "0vs3iwcl7Fas"
      },
      "execution_count": null,
      "outputs": []
    },
    {
      "cell_type": "markdown",
      "source": [
        "# Generation"
      ],
      "metadata": {
        "id": "KZCEIV1S7Jof"
      }
    },
    {
      "cell_type": "code",
      "source": [
        "for i in range(len(reviews_data)):\n",
        "\n",
        "    prompt= ChatPromptTemplate.from_template(template=output_template)\n",
        "\n",
        "    ## Making a prompt by looping over each item_description one by one\n",
        "    messages= prompt.format_messages(text=reviews_data['Customer_Reviews'].iloc[i],\n",
        "                                format_instructions=format_instructions)\n",
        "\n",
        "    response= chat(messages)\n",
        "\n",
        "    ## Getting the response and Parsing it to a json dictionary\n",
        "    output_dict= output_parser.parse(response.content)\n",
        "\n",
        "    ## Now store this dictionary output back to the Answer field\n",
        "    reviews_data['Output'].iloc[i]= output_dict\n",
        "\n",
        "    messages=\"\""
      ],
      "metadata": {
        "id": "2PZwtAWG7LCD"
      },
      "execution_count": null,
      "outputs": []
    },
    {
      "cell_type": "code",
      "source": [
        "reviews_data"
      ],
      "metadata": {
        "id": "0OyZRByd7hNV"
      },
      "execution_count": null,
      "outputs": []
    },
    {
      "cell_type": "markdown",
      "source": [
        "# Data Cleaning"
      ],
      "metadata": {
        "id": "jTbjDEBz8CMz"
      }
    },
    {
      "cell_type": "code",
      "source": [
        "for col in ['Review_Language', 'Review_Sentiment', 'Translated_Review','Review_Response','Translated_Response']:\n",
        "    if col not in reviews_data.columns:\n",
        "        reviews_data[col] = None"
      ],
      "metadata": {
        "id": "lqx6bNj68JL7"
      },
      "execution_count": null,
      "outputs": []
    },
    {
      "cell_type": "code",
      "source": [
        "for i in range(len(reviews_data)):\n",
        "  output=reviews_data['Output'].iloc[i]\n",
        "\n",
        "  reviews_data['Review_Language'].iloc[i]= output.get('review_language')\n",
        "  reviews_data['Review_Sentiment'].iloc[i]= output.get('review_sentiment')\n",
        "  reviews_data['Translated_Review'].iloc[i]= output.get('translated_review')\n",
        "  reviews_data['Review_Response'].iloc[i]= output.get('review_response')\n",
        "  reviews_data['Translated_Response'].iloc[i]= output.get('translated_response')"
      ],
      "metadata": {
        "id": "RN_VjzJK8jpc"
      },
      "execution_count": null,
      "outputs": []
    },
    {
      "cell_type": "code",
      "source": [
        "reviews_data"
      ],
      "metadata": {
        "id": "di3ag31l8-aM"
      },
      "execution_count": null,
      "outputs": []
    },
    {
      "cell_type": "code",
      "source": [
        "# export reviews_data as a csv\n",
        "reviews_data.to_csv('prepped_reviews_data.csv', index=False)"
      ],
      "metadata": {
        "id": "mI4gVSAg-grw"
      },
      "execution_count": null,
      "outputs": []
    }
  ]
}